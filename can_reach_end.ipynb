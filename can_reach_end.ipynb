{
 "cells": [
  {
   "cell_type": "markdown",
   "id": "848de5d5",
   "metadata": {},
   "source": [
    "# Given an integer list where each number represents the number of hops you can make, determine whether you can reach to the last index starting at index 0.\n",
    "\n",
    "For example, [2, 0, 1, 0] returns True while [1, 1, 0, 1] returns False."
   ]
  },
  {
   "cell_type": "code",
   "execution_count": null,
   "id": "c65b8313",
   "metadata": {},
   "outputs": [],
   "source": [
    "def can_reach_end(hops):\n",
    "    steps_left = 1\n",
    "\n",
    "    for i in range(len(hops) - 1):\n",
    "        steps_left = max(steps_left - 1, hops[i])\n",
    "        if steps_left == 0:\n",
    "            return False\n",
    "    return True"
   ]
  }
 ],
 "metadata": {
  "kernelspec": {
   "display_name": "Python 3 (ipykernel)",
   "language": "python",
   "name": "python3"
  },
  "language_info": {
   "codemirror_mode": {
    "name": "ipython",
    "version": 3
   },
   "file_extension": ".py",
   "mimetype": "text/x-python",
   "name": "python",
   "nbconvert_exporter": "python",
   "pygments_lexer": "ipython3",
   "version": "3.9.13"
  }
 },
 "nbformat": 4,
 "nbformat_minor": 5
}
